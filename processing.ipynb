{
 "cells": [
  {
   "cell_type": "code",
   "execution_count": 3,
   "id": "24aa3ce1-a3da-46f0-804e-da356e5fdcfe",
   "metadata": {},
   "outputs": [],
   "source": [
    "import bs4\n",
    "import json"
   ]
  },
  {
   "cell_type": "code",
   "execution_count": 6,
   "id": "ebdad978-66f3-4ce1-811d-5148de39ca6d",
   "metadata": {},
   "outputs": [],
   "source": [
    "from bs4 import BeautifulSoup\n"
   ]
  },
  {
   "cell_type": "code",
   "execution_count": 59,
   "id": "c932f6d5-e9e1-4437-b3ce-9bad529f2577",
   "metadata": {},
   "outputs": [],
   "source": [
    "plans_lst = json.load(open('plans.json'))"
   ]
  },
  {
   "cell_type": "code",
   "execution_count": 80,
   "id": "da6ac4c9-dca1-484a-9674-1f2a02511d21",
   "metadata": {},
   "outputs": [
    {
     "name": "stdout",
     "output_type": "stream",
     "text": [
      "['https://cdn.houseplansservices.com/product/1bgud90llifa53o5otjgsfhsls/w800x533.jpg?v=25', 'https://cdn.houseplansservices.com/product/9l1f4cv650cco9nee4i5qvg6l2/w600.gif?v=23', 'https://cdn.houseplansservices.com/product/d3aksgp8epjh60iolhdqq1hjp3/w600.gif?v=23'] {'sq/ft': '1872', 'beds': '3', 'baths': '3', 'wide': '52\\' 8\"', 'deep': '39\\' 2\"'} Traditional                  Country {'First Floor': \"1112 sq/ft height 8'\", 'Second Floor': '760 sq/ft', 'Depth': '39\\' 2\"', 'Height': \"23'\", 'Width': '52\\' 8\"', 'Primary Pitch': '6:12', 'Roof Framing': 'Combination Truss/Conventional', 'Roof Type': 'Shingle', 'Main Ceiling': \"8'\", 'Upper Ceiling Ft': \"8'\"}\n"
     ]
    }
   ],
   "source": [
    "for i in range(1):\n",
    "    soup = BeautifulSoup(plans_lst[i], \"html.parser\")\n",
    "\n",
    "    images = []\n",
    "    features = {}\n",
    "    specs = {}\n",
    "    typ = ''\n",
    "    for item in soup.findAll('img'):\n",
    "        img = item.get('src')\n",
    "        if 'product' in img and 'api.qr' not in img:\n",
    "            images.append(img)\n",
    "    if len(images) == 0:\n",
    "        print('No images!', i)\n",
    "    \n",
    "    for d in soup.find_all(\"div\", {\"class\": \"px-2\"}):\n",
    "        k = d.findAll(text=True, recursive=False)[1].replace(',', '').replace('\\\\n', '').replace('\\r', '').replace('\\n', '').strip()\n",
    "        val = d.findAll(\"span\")[0].text\n",
    "        features[k] = val\n",
    "    \n",
    "    for d in soup.find_all(\"div\", {\"class\": \"mt-1\"}):\n",
    "        v = d.findAll(\"div\")\n",
    "        v = [i.text.replace(',', '').replace('\\\\n', '').replace('\\r', '').replace('\\n', '').strip() for i in v]\n",
    "        specs[v[0]] = v[1]\n",
    "    \n",
    "        \n",
    "    typ = soup.find_all(\"div\", {\"class\": \"pl-3\"})[0].text.replace(',', '').replace('\\\\n', '').replace('\\r', '').replace('\\n', '').strip()\n",
    "\n",
    "print(images, features, typ, specs)"
   ]
  },
  {
   "cell_type": "code",
   "execution_count": null,
   "id": "710d7889-393b-456b-9d6f-42a43cd38af0",
   "metadata": {},
   "outputs": [],
   "source": []
  },
  {
   "cell_type": "code",
   "execution_count": null,
   "id": "94c47ead-662b-4ae1-94d3-605b70e7d713",
   "metadata": {},
   "outputs": [],
   "source": []
  }
 ],
 "metadata": {
  "kernelspec": {
   "display_name": "Python 3",
   "language": "python",
   "name": "python3"
  },
  "language_info": {
   "codemirror_mode": {
    "name": "ipython",
    "version": 3
   },
   "file_extension": ".py",
   "mimetype": "text/x-python",
   "name": "python",
   "nbconvert_exporter": "python",
   "pygments_lexer": "ipython3",
   "version": "3.9.13"
  }
 },
 "nbformat": 4,
 "nbformat_minor": 5
}
